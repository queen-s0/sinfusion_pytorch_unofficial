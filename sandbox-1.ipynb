{
 "cells": [
  {
   "cell_type": "code",
   "execution_count": null,
   "id": "armed-poison",
   "metadata": {},
   "outputs": [],
   "source": [
    "%load_ext autoreload\n",
    "%autoreload 2"
   ]
  },
  {
   "cell_type": "raw",
   "id": "5caac104",
   "metadata": {},
   "source": [
    "!git clone https://github.com/lucidrains/denoising-diffusion-pytorch"
   ]
  },
  {
   "cell_type": "raw",
   "id": "1627113c",
   "metadata": {},
   "source": [
    "!pip3 install accelerate einops ema-pytorch pillow tqdm tensorboard"
   ]
  },
  {
   "cell_type": "code",
   "execution_count": null,
   "id": "4995ddaf",
   "metadata": {},
   "outputs": [],
   "source": [
    "import sys\n",
    "\n",
    "sys.path.insert(0, './denoising-diffusion-pytorch/')"
   ]
  },
  {
   "cell_type": "code",
   "execution_count": null,
   "id": "5add6078",
   "metadata": {},
   "outputs": [],
   "source": [
    "import torch\n",
    "\n",
    "\n",
    "torch.__version__"
   ]
  },
  {
   "cell_type": "code",
   "execution_count": null,
   "id": "6c286d3d",
   "metadata": {},
   "outputs": [],
   "source": [
    "device = torch.device('mps' if torch.backends.mps.is_available() else 'cuda' if torch.cuda.is_available() else 'cpu')\n",
    "# device = torch.device('cpu')\n",
    "device"
   ]
  },
  {
   "cell_type": "code",
   "execution_count": null,
   "id": "34837986",
   "metadata": {},
   "outputs": [],
   "source": [
    "import torch\n",
    "from denoising_diffusion_pytorch import Unet, GaussianDiffusion\n",
    "\n",
    "model = Unet(\n",
    "    dim = 64,\n",
    "    dim_mults = (1, 2, 4, 8)\n",
    ").to(device)\n",
    "\n",
    "diffusion = GaussianDiffusion(\n",
    "    model,\n",
    "    image_size = 256,\n",
    "    timesteps = 256,   # number of steps\n",
    "    loss_type = 'l1'    # L1 or L2\n",
    ").to(device)\n",
    "\n",
    "# training_images = torch.rand(8, 3, 128, 128) # images are normalized from 0 to 1\n",
    "# loss = diffusion(training_images)\n",
    "# loss.backward()\n",
    "# # after a lot of training\n",
    "\n",
    "sampled_images = diffusion.sample(batch_size=2)\n",
    "sampled_images.shape # (4, 3, 128, 128)"
   ]
  },
  {
   "cell_type": "code",
   "execution_count": null,
   "id": "1a448228",
   "metadata": {},
   "outputs": [],
   "source": [
    "import matplotlib.pyplot as plt\n",
    "\n",
    "from torchvision.transforms import ToPILImage\n",
    "\n",
    "\n",
    "img_t = sampled_images[0]\n",
    "plt.imshow(img_t.cpu().numpy().transpose(1, 2, 0))\n",
    "plt.show()"
   ]
  },
  {
   "cell_type": "code",
   "execution_count": null,
   "id": "c1aa5890",
   "metadata": {},
   "outputs": [],
   "source": [
    "import torchvision.transforms as T\n",
    "\n",
    "from PIL import Image\n",
    "from torch.utils.data import Dataset\n",
    "\n",
    "\n",
    "class CropImageDataset(Dataset):\n",
    "    def __init__(self, image, resolution):\n",
    "        super(Dataset, self).__init__()\n",
    "        self.image = T.ToTensor()(image)\n",
    "        _, h, w = self.image.shape\n",
    "        self.crop_size = int(min(h, w) * 0.95)\n",
    "        self.resolution = resolution\n",
    "        self.transforms = T.Compose([\n",
    "            T.RandomCrop(self.crop_size),\n",
    "            T.Resize(self.resolution)\n",
    "        ])\n",
    "        \n",
    "    def __len__(self):\n",
    "        return 10\n",
    "    \n",
    "    def __getitem__(self, idx):\n",
    "        tensor = self.transforms(self.image)\n",
    "        return tensor\n",
    "    \n",
    "    \n",
    "image = Image.open('pic2.jpeg')\n",
    "dataset = CropImageDataset(image, resolution=128)\n",
    "T.ToPILImage()(dataset[0])"
   ]
  },
  {
   "cell_type": "code",
   "execution_count": null,
   "id": "29442cd3",
   "metadata": {},
   "outputs": [],
   "source": [
    "!pip install pytorch_lightning"
   ]
  }
 ],
 "metadata": {
  "kernelspec": {
   "display_name": "Python 3 (ipykernel)",
   "language": "python",
   "name": "python3"
  },
  "language_info": {
   "codemirror_mode": {
    "name": "ipython",
    "version": 3
   },
   "file_extension": ".py",
   "mimetype": "text/x-python",
   "name": "python",
   "nbconvert_exporter": "python",
   "pygments_lexer": "ipython3",
   "version": "3.9.13"
  }
 },
 "nbformat": 4,
 "nbformat_minor": 5
}
